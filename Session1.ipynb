{
  "nbformat": 4,
  "nbformat_minor": 0,
  "metadata": {
    "colab": {
      "name": "Session1.ipynb",
      "provenance": [],
      "authorship_tag": "ABX9TyPX82Uyit81/Yi7Ozp5IskC",
      "include_colab_link": true
    },
    "kernelspec": {
      "name": "python3",
      "display_name": "Python 3"
    }
  },
  "cells": [
    {
      "cell_type": "markdown",
      "metadata": {
        "id": "view-in-github",
        "colab_type": "text"
      },
      "source": [
        "<a href=\"https://colab.research.google.com/github/nandanaajayan/python/blob/master/Session1.ipynb\" target=\"_parent\"><img src=\"https://colab.research.google.com/assets/colab-badge.svg\" alt=\"Open In Colab\"/></a>"
      ]
    },
    {
      "cell_type": "code",
      "metadata": {
        "colab": {
          "base_uri": "https://localhost:8080/"
        },
        "id": "PcxXMZJKOnn4",
        "outputId": "ca60376f-4992-4d5d-cb35-70880e1e96c5"
      },
      "source": [
        " \n",
        "class Member:\n",
        "    def __init__(self, name, age, phonenumber, address, salary):\n",
        "        self.name = name\n",
        "        self.age = age\n",
        "        self.phonenumber=phonenumber\n",
        "        self.address=address\n",
        "        self.salary=salary\n",
        "    \n",
        "    def printSalary(self):\n",
        "        print(\"Salary : \",self.salary)\n",
        " \n",
        " \n",
        " \n",
        "class Employee(Member):  # Inheritance\n",
        "    def __init__(self, specialization):\n",
        "        super().__init__(\"arun\", 35, 9994585241,\"adam villa\",30000)\n",
        "        self.specialization = specialization\n",
        " \n",
        "    def report(self):\n",
        "        print(\"Spetialization : \",self.specialization)\n",
        "        print(\"Name:\", self.name)\n",
        "        print(\"age:\", self.age)\n",
        "        print(\"phone number:\", self.phonenumber)\n",
        "        print(\"Address:\", self.address)\n",
        "        print(\"Salary:\", self.salary)\n",
        " \n",
        " \n",
        "class Manager(Member):  # Inheritance\n",
        "    def __init__(self, department):\n",
        "        super().__init__(\"akash\",36,9485248230,\"greeks house\",40000)\n",
        "        self.department = department\n",
        " \n",
        "    def report(self):\n",
        "        print(\"Department : \", self.department)\n",
        "        print(\"Name:\", self.name)\n",
        "        print(\"age:\", self.age)\n",
        "        print(\"phone number:\", self.phonenumber)\n",
        "        print(\"Address:\", self.address)\n",
        "        print(\"Salary : \",self.salary)\n",
        " \n",
        " \n",
        "a = Employee(\"Programmer\")\n",
        "print(a.report())\n",
        "b = Manager(\"Human Resources\")\n",
        "print(b.report())"
      ],
      "execution_count": 4,
      "outputs": [
        {
          "output_type": "stream",
          "text": [
            "Spetialization :  Programmer\n",
            "Name: arun\n",
            "age: 35\n",
            "phone number: 9994585241\n",
            "Address: adam villa\n",
            "Salary: 30000\n",
            "None\n",
            "Department :  Human Resources\n",
            "Name: akash\n",
            "age: 36\n",
            "phone number: 9485248230\n",
            "Address: greeks house\n",
            "Salary :  40000\n",
            "None\n"
          ],
          "name": "stdout"
        }
      ]
    }
  ]
}